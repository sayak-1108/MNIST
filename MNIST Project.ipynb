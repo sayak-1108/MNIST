{
 "cells": [
  {
   "cell_type": "code",
   "execution_count": 1,
   "id": "e005e251",
   "metadata": {},
   "outputs": [
    {
     "name": "stdout",
     "output_type": "stream",
     "text": [
      "Downloading data from https://storage.googleapis.com/tensorflow/tf-keras-datasets/mnist.npz\n",
      "11490434/11490434 [==============================] - 2s 0us/step\n"
     ]
    }
   ],
   "source": [
    "import tensorflow as tf\n",
    "\n",
    "#Load the mnist dataset into a variable\n",
    "mnist = tf.keras.datasets.mnist # 28*28 images of hand written digits 0-9 \n",
    "\n",
    "(x_train, y_train),(x_test, y_test) = mnist.load_data()  #Split the data into train and test sets"
   ]
  },
  {
   "cell_type": "code",
   "execution_count": 2,
   "id": "e688b40c",
   "metadata": {},
   "outputs": [
    {
     "data": {
      "image/png": "[encoded data removed]",
      "text/plain": [
       "<Figure size 432x288 with 1 Axes>"
      ]
     },
     "metadata": {
      "needs_background": "light"
     },
     "output_type": "display_data"
    }
   ],
   "source": [
    "import matplotlib.pyplot as plt  # import matplotlib library\n",
    "\n",
    "#print(x_train[0])   # run this command to see the pixels in the zeroth index of the train set\n",
    "\n",
    "plt.imshow(x_train[0])   # used to show the pixels as an image, so the zeroth index has a 5 in the image\n",
    "plt.show()"
   ]
  },
  {
   "cell_type": "code",
   "execution_count": 3,
   "id": "e10cde54",
   "metadata": {},
   "outputs": [
    {
     "data": {
      "text/plain": [
       "<matplotlib.image.AxesImage at 0x1444a37f1f0>"
      ]
     },
     "execution_count": 3,
     "metadata": {},
     "output_type": "execute_result"
    },
    {
     "data": {
      "image/png": "[encoded data removed]",
      "text/plain": [
       "<Figure size 432x288 with 1 Axes>"
      ]
     },
     "metadata": {
      "needs_background": "light"
     },
     "output_type": "display_data"
    }
   ],
   "source": [
    "plt.imshow(x_train[0],cmap = plt.cm.binary) # showing the zeroth index image in black and white"
   ]
  },
  {
   "cell_type": "code",
   "execution_count": 5,
   "id": "cc04070b",
   "metadata": {},
   "outputs": [
    {
     "name": "stdout",
     "output_type": "stream",
     "text": [
      "Epoch 1/10\n",
      "1875/1875 [==============================] - 2s 1ms/step - loss: 0.2592 - accuracy: 0.9246\n",
      "Epoch 2/10\n",
      "1875/1875 [==============================] - 2s 1ms/step - loss: 0.1048 - accuracy: 0.9678\n",
      "Epoch 3/10\n",
      "1875/1875 [==============================] - 2s 1ms/step - loss: 0.0724 - accuracy: 0.9773\n",
      "Epoch 4/10\n",
      "1875/1875 [==============================] - 2s 1ms/step - loss: 0.0530 - accuracy: 0.9834\n",
      "Epoch 5/10\n",
      "1875/1875 [==============================] - 2s 1ms/step - loss: 0.0410 - accuracy: 0.9862\n",
      "Epoch 6/10\n",
      "1875/1875 [==============================] - 2s 1ms/step - loss: 0.0310 - accuracy: 0.9895\n",
      "Epoch 7/10\n",
      "1875/1875 [==============================] - 2s 1ms/step - loss: 0.0250 - accuracy: 0.9916\n",
      "Epoch 8/10\n",
      "1875/1875 [==============================] - 2s 1ms/step - loss: 0.0209 - accuracy: 0.9929\n",
      "Epoch 9/10\n",
      "1875/1875 [==============================] - 2s 1ms/step - loss: 0.0180 - accuracy: 0.9942\n",
      "Epoch 10/10\n",
      "1875/1875 [==============================] - 2s 1ms/step - loss: 0.0156 - accuracy: 0.9945\n"
     ]
    },
    {
     "data": {
      "text/plain": [
       "<keras.callbacks.History at 0x1444865dbb0>"
      ]
     },
     "execution_count": 5,
     "metadata": {},
     "output_type": "execute_result"
    }
   ],
   "source": [
    "from keras.models import Sequential                       #Sequential model is the model we'll use in this example\n",
    "from keras.layers import Dense, Dropout, Conv2D, Flatten  # some keras layers which can be understood from the \n",
    "                                                          # documentation\n",
    "\n",
    "#Normalize the data or scaling the data\n",
    "x_train = tf.keras.utils.normalize(x_train, axis =1)\n",
    "x_test = tf.keras.utils.normalize(x_test, axis = 1)\n",
    "\n",
    "# Building up the Model\n",
    "model = Sequential()\n",
    "model.add(Flatten())\n",
    "model.add(Dense(128, activation = 'relu'))  # Dense layers are fully connected layers here with 128 neurons \n",
    "                                            #and relu activation layer\n",
    "model.add(Dense(128, activation = 'relu'))\n",
    "model.add(Dense(10, activation = 'softmax')) # Softmax activation layer is used mostly at the end as it shows \n",
    "                                            #the probability of each node and the total equals 1 and so the \n",
    "                                            #neuron with highest probability is the prediction.\n",
    "\n",
    "#Configuring the model before training it\n",
    "model.compile(optimizer = 'adam', loss = 'sparse_categorical_crossentropy', metrics = ['accuracy'])\n",
    "\n",
    "model.fit(x_train, y_train, epochs = 10) #Training the model with the train dataset"
   ]
  },
  {
   "cell_type": "code",
   "execution_count": 6,
   "id": "4b38e7de",
   "metadata": {},
   "outputs": [
    {
     "name": "stdout",
     "output_type": "stream",
     "text": [
      "313/313 [==============================] - 0s 946us/step - loss: 0.1021 - accuracy: 0.9759\n",
      "0.10213583707809448 Loss on the test set\n",
      "0.9758999943733215 Accuracy on the test set\n"
     ]
    }
   ],
   "source": [
    "val_loss, val_accuracy = model.evaluate(x_test, y_test)  #evaluating the model with the test set\n",
    "print(val_loss,'Loss on the test set')\n",
    "print(val_accuracy,'Accuracy on the test set')"
   ]
  },
  {
   "cell_type": "code",
   "execution_count": 7,
   "id": "61c79464",
   "metadata": {},
   "outputs": [
    {
     "name": "stdout",
     "output_type": "stream",
     "text": [
      "INFO:tensorflow:Assets written to: mnist_save.model\\assets\n"
     ]
    }
   ],
   "source": [
    "# Save the model\n",
    "model.save('mnist_save.model')"
   ]
  },
  {
   "cell_type": "code",
   "execution_count": 8,
   "id": "345b5604",
   "metadata": {},
   "outputs": [],
   "source": [
    "#Loading the saved model\n",
    "new_model = tf.keras.models.load_model('mnist_save.model')"
   ]
  },
  {
   "cell_type": "code",
   "execution_count": 9,
   "id": "27686e32",
   "metadata": {},
   "outputs": [
    {
     "name": "stdout",
     "output_type": "stream",
     "text": [
      "313/313 [==============================] - 0s 906us/step\n"
     ]
    }
   ],
   "source": [
    "# it requires a list to be passed as an argument\n",
    "predictions = new_model.predict([x_test])"
   ]
  },
  {
   "cell_type": "code",
   "execution_count": 11,
   "id": "1d58f404",
   "metadata": {},
   "outputs": [
    {
     "name": "stdout",
     "output_type": "stream",
     "text": [
      "7\n"
     ]
    },
    {
     "data": {
      "image/png": "[encoded data removed]",
      "text/plain": [
       "<Figure size 432x288 with 1 Axes>"
      ]
     },
     "metadata": {
      "needs_background": "light"
     },
     "output_type": "display_data"
    }
   ],
   "source": [
    "import numpy as np\n",
    "#Checking the predicted value and the actual value\n",
    "print(np.argmax(predictions[0]))  # predicted value\n",
    "plt.imshow(x_test[0])     # actual value\n",
    "plt.show()"
   ]
  },
  {
   "cell_type": "code",
   "execution_count": null,
   "id": "ce7bbc40",
   "metadata": {},
   "outputs": [],
   "source": []
  }
 ],
 "metadata": {
  "kernelspec": {
   "display_name": "Python 3 (ipykernel)",
   "language": "python",
   "name": "python3"
  },
  "language_info": {
   "codemirror_mode": {
    "name": "ipython",
    "version": 3
   },
   "file_extension": ".py",
   "mimetype": "text/x-python",
   "name": "python",
   "nbconvert_exporter": "python",
   "pygments_lexer": "ipython3",
   "version": "3.9.7"
  }
 },
 "nbformat": 4,
 "nbformat_minor": 5
}
